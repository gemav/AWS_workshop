{
 "cells": [
  {
   "cell_type": "markdown",
   "metadata": {},
   "source": [
    "## Launch an EC2 webserver on AWS\n",
    "\n",
    "In this workshop we will explore the basics of AWS with VPC, EC2, and Amazon S3. Python is used extensively so you will need experience in or be comfortable reading python code. \n",
    "\n",
    "### Initialize notebook\n",
    "\n",
    "We will be using the [boto3](https://boto3.amazonaws.com/v1/documentation/api/latest/index.html) library for creation of all resources."
   ]
  },
  {
   "cell_type": "code",
   "execution_count": null,
   "metadata": {},
   "outputs": [],
   "source": [
    "import boto3\n",
    "import sys\n",
    "import os\n",
    "import json\n",
    "import base64\n",
    "import pprint\n",
    "import uuid\n",
    "from dateutil import parser\n",
    "\n",
    "#from lib import workshop\n",
    "from botocore.exceptions import ClientError\n",
    "\n",
    "ec2_client = boto3.client('ec2')\n",
    "ec2 = boto3.resource('ec2')\n",
    "cloudwatch = boto3.client('cloudwatch')\n",
    "\n",
    "session = boto3.session.Session()\n",
    "region = session.region_name\n",
    "\n",
    "sec_group_name = 'web-sg'"
   ]
  },
  {
   "cell_type": "markdown",
   "metadata": {},
   "source": [
    "### [Create S3 Bucket](https://docs.aws.amazon.com/AmazonS3/latest/gsg/CreatingABucket.html)\n",
    "\n",
    "We will create an S3 bucket that will be used throughout the workshop for storing data.\n",
    "\n",
    "[s3.create_bucket](https://boto3.amazonaws.com/v1/documentation/api/latest/reference/services/s3.html#S3.Client.create_bucket) boto3 documentation"
   ]
  },
  {
   "cell_type": "code",
   "execution_count": null,
   "metadata": {},
   "outputs": [],
   "source": [
    "bucket = ''.join(['intro-', str(uuid.uuid4())])\n",
    "session.resource('s3').create_bucket(Bucket=bucket, CreateBucketConfiguration={'LocationConstraint': region})\n",
    "print(bucket)"
   ]
  },
  {
   "cell_type": "markdown",
   "metadata": {},
   "source": [
    "### [Create VPC](https://aws.amazon.com/vpc/)\n",
    "\n",
    "Amazon Virtual Private Cloud (Amazon VPC) lets you provision a logically isolated section of the AWS Cloud where you can launch AWS resources in a virtual network that you define. You have complete control over your virtual networking environment, including selection of your own IP address range, creation of subnets, and configuration of route tables and network gateways. You can use both IPv4 and IPv6 in your VPC for secure and easy access to resources and applications."
   ]
  },
  {
   "cell_type": "code",
   "execution_count": null,
   "metadata": {},
   "outputs": [],
   "source": [
    "vpc = ec2.create_vpc(CidrBlock='10.0.0.0/16')\n",
    "vpc.modify_attribute(EnableDnsSupport={'Value':True})\n",
    "vpc.modify_attribute(EnableDnsHostnames={'Value':True})\n",
    "tag = vpc.create_tags(\n",
    "Tags=[\n",
    "    {\n",
    "        'Key': 'Name',\n",
    "        'Value': 'research-workshop'\n",
    "    },\n",
    "])\n",
    "\n",
    "subnet = vpc.create_subnet(CidrBlock='10.0.0.0/24', AvailabilityZone=region + 'a')\n",
    "subnet.meta.client.modify_subnet_attribute(\n",
    "    SubnetId=subnet.id, \n",
    "    MapPublicIpOnLaunch={\"Value\": True}\n",
    ")\n",
    "\n",
    "subnet2 = vpc.create_subnet(CidrBlock='10.0.1.0/24', AvailabilityZone=region + 'b')\n",
    "subnet2.meta.client.modify_subnet_attribute(SubnetId=subnet2.id, MapPublicIpOnLaunch={\"Value\": True})\n",
    "\n",
    "igw = ec2.create_internet_gateway()\n",
    "igw.attach_to_vpc(VpcId=vpc.id)\n",
    "\n",
    "public_route_table = list(vpc.route_tables.all())[0]\n",
    "# add a default route, for Public Subnet, pointing to Internet Gateway \n",
    "ec2_client.create_route(RouteTableId=public_route_table.id,DestinationCidrBlock='0.0.0.0/0',GatewayId=igw.id)\n",
    "public_route_table.associate_with_subnet(SubnetId=subnet.id)\n",
    "public_route_table.associate_with_subnet(SubnetId=subnet2.id)\n",
    "\n",
    "vpc_id = vpc.id\n",
    "subnet_id = subnet.id\n",
    "subnet2_id = subnet2.id\n",
    "print(vpc_id)\n",
    "print(subnet_id)\n",
    "print(subnet2_id)"
   ]
  },
  {
   "cell_type": "markdown",
   "metadata": {},
   "source": [
    "### Create index.html page for the web application\n",
    "\n",
    "We will write out a simple html page to demo setting up the Apache web server using an Application Load Balancer and Auto Scaling to provide elasticity to your web application."
   ]
  },
  {
   "cell_type": "code",
   "execution_count": null,
   "metadata": {},
   "outputs": [],
   "source": [
    "%%writefile index.html\n",
    "\n",
    "<h1>Hello from the intro to AWS workshop!!!</h1>"
   ]
  },
  {
   "cell_type": "markdown",
   "metadata": {},
   "source": [
    "### [Upload to S3](https://docs.aws.amazon.com/AmazonS3/latest/dev/Welcome.html)\n",
    "\n",
    "Next, we will upload the index.html file created above to S3 to be used later in the workshop.\n",
    "\n",
    "[s3.upload_file](https://boto3.amazonaws.com/v1/documentation/api/latest/reference/services/s3.html#S3.Client.upload_file) boto3 documentation"
   ]
  },
  {
   "cell_type": "code",
   "execution_count": null,
   "metadata": {},
   "outputs": [],
   "source": [
    "session.resource('s3').Bucket(bucket).Object(os.path.join('web', 'index.html')).upload_file('index.html')"
   ]
  },
  {
   "cell_type": "markdown",
   "metadata": {},
   "source": [
    "### [Create Security Groups](https://docs.aws.amazon.com/vpc/latest/userguide/VPC_SecurityGroups.html)\n",
    "\n",
    "\n",
    "A security group acts as a virtual firewall for your instance to control inbound and outbound traffic. When you launch an instance in a VPC, you can assign up to five security groups to the instance. Security groups act at the instance level, not the subnet level. Therefore, each instance in a subnet in your VPC could be assigned to a different set of security groups. If you don't specify a particular group at launch time, the instance is automatically assigned to the default security group for the VPC.\n",
    "\n",
    "[ec2_client.create_security_group](https://boto3.amazonaws.com/v1/documentation/api/latest/reference/services/ec2.html#EC2.Client.create_security_group) boto3 documentation"
   ]
  },
  {
   "cell_type": "code",
   "execution_count": null,
   "metadata": {},
   "outputs": [],
   "source": [
    "sg = ec2_client.create_security_group(\n",
    "    Description='security group for EC2 instance',\n",
    "    GroupName=sec_group_name,\n",
    "    VpcId=vpc_id\n",
    ")\n",
    "sec_group_id=sg[\"GroupId\"]\n",
    "print('EC2 Security group id - ' + sec_group_id)"
   ]
  },
  {
   "cell_type": "markdown",
   "metadata": {},
   "source": [
    "### Configure available ports\n",
    "\n",
    "In order for the EC2 Instance to communicate with the outside world, we will open port 80 and 443. As you can see in the call below we can define the `ToPort` and `FromPort` and a `CidrIp` range we want to allow.\n",
    "\n",
    "[ec2_client.authorize_security_group_ingress](https://boto3.amazonaws.com/v1/documentation/api/latest/reference/services/ec2.html#EC2.Client.authorize_security_group_ingress) boto3 documentation"
   ]
  },
  {
   "cell_type": "code",
   "execution_count": null,
   "metadata": {},
   "outputs": [],
   "source": [
    "data = ec2_client.authorize_security_group_ingress(\n",
    "    GroupId=sec_group_id,\n",
    "    IpPermissions=[\n",
    "        {'IpProtocol': 'tcp',\n",
    "         'FromPort': 80,\n",
    "         'ToPort': 80,\n",
    "         'IpRanges': [\n",
    "            {\n",
    "                'CidrIp': '0.0.0.0/0',\n",
    "                'Description': 'HTTP access'\n",
    "            },\n",
    "          ]\n",
    "        },\n",
    "        {'IpProtocol': 'tcp',\n",
    "         'FromPort': 443,\n",
    "         'ToPort': 443,\n",
    "         'IpRanges': [\n",
    "            {\n",
    "                'CidrIp': '0.0.0.0/0',\n",
    "                'Description': 'HTTPS access'\n",
    "            },\n",
    "          ]\n",
    "        }\n",
    "    ]\n",
    ")"
   ]
  },
  {
   "cell_type": "markdown",
   "metadata": {},
   "source": [
    "### Get Latest Amazon Linux AMI\n",
    "\n",
    "An Amazon Machine Image (AMI) is a template that contains a software configuration (for example, an operating system, an application server, and applications). From an AMI, you launch an instance, which is a copy of the AMI running as a virtual server in the cloud.\n",
    "\n",
    "Here we find the latest Amazon Linux AMI that is compatitible with the instance we will run later. "
   ]
  },
  {
   "cell_type": "code",
   "execution_count": null,
   "metadata": {},
   "outputs": [],
   "source": [
    "filters = [ {\n",
    "    'Name': 'name',\n",
    "    'Values': ['amzn-ami-hvm-*']\n",
    "},{\n",
    "    'Name': 'description',\n",
    "    'Values': ['Amazon Linux AMI*']\n",
    "},{\n",
    "    'Name': 'architecture',\n",
    "    'Values': ['x86_64']\n",
    "},{\n",
    "    'Name': 'owner-alias',\n",
    "    'Values': ['amazon']\n",
    "},{\n",
    "    'Name': 'owner-id',\n",
    "    'Values': ['137112412989']\n",
    "},{\n",
    "    'Name': 'state',\n",
    "    'Values': ['available']\n",
    "},{\n",
    "    'Name': 'root-device-type',\n",
    "    'Values': ['ebs']\n",
    "},{\n",
    "    'Name': 'virtualization-type',\n",
    "    'Values': ['hvm']\n",
    "},{\n",
    "    'Name': 'hypervisor',\n",
    "    'Values': ['xen']\n",
    "},{\n",
    "    'Name': 'image-type',\n",
    "    'Values': ['machine']\n",
    "} ]\n",
    "\n",
    "response = ec2_client.describe_images(Owners=['amazon'], Filters=filters)\n",
    "\n",
    "# Search for the newest image\n",
    "latest = None\n",
    "for image in response['Images']:\n",
    "    if not latest:\n",
    "        latest = image\n",
    "        continue\n",
    "    if parser.parse(image['CreationDate']) > parser.parse(latest['CreationDate']):\n",
    "        latest = image\n",
    "\n",
    "ami=latest['ImageId'] \n",
    "print(ami)"
   ]
  },
  {
   "cell_type": "markdown",
   "metadata": {},
   "source": [
    "### Create UserData to install Apache web server and download index\n",
    "\n",
    "Replace the `{{bucket}}` value with the S3 bucket you created above"
   ]
  },
  {
   "cell_type": "code",
   "execution_count": null,
   "metadata": {},
   "outputs": [],
   "source": [
    "%%writefile userdata.sh\n",
    "\n",
    "#!/bin/bash\n",
    "yum update -y\n",
    "yum -y install httpd\n",
    "service httpd start\n",
    "\n",
    "usermod -a -G apache ec2-user\n",
    "chown -R ec2-user:apache /var/www\n",
    "chmod 2775 /var/www\n",
    "find /var/www -type d -exec chmod 2775 {} \\;\n",
    "find /var/www -type f -exec chmod 0664 {} \\;\n",
    "\n",
    "aws s3 cp s3://intro-8c7b22c0-31cd-4b8a-a485-6da532f2ca00/web/index.html /var/www/html/index.html"
   ]
  },
  {
   "cell_type": "markdown",
   "metadata": {},
   "source": [
    "### Load userdata.sh\n",
    "\n",
    "We will read the UserData into a local variable and base64 encode the contents of the file to be used on the EC2 instance launch configuraton."
   ]
  },
  {
   "cell_type": "code",
   "execution_count": null,
   "metadata": {},
   "outputs": [],
   "source": [
    "fh=open(\"userdata.sh\")\n",
    "userdata=fh.read()\n",
    "fh.close()\n",
    "\n",
    "userdataencode = base64.b64encode(userdata.encode()).decode(\"ascii\")"
   ]
  },
  {
   "cell_type": "markdown",
   "metadata": {},
   "source": [
    "### [Create an EC2 Instance](https://docs.aws.amazon.com/AWSEC2/latest/UserGuide/LaunchingAndUsingInstances.html)\n",
    "\n",
    "An instance is a virtual server in the cloud. Its configuration at launch is a copy of the AMI that you specified when you launched the instance.\n",
    "\n",
    "You can launch different types of instances from a single AMI. An instance type essentially determines the hardware of the host computer used for your instance. Each instance type offers different compute and memory capabilities. Select an instance type based on the amount of memory and computing power that you need for the application or software that you plan to run on the instance. For more information about the hardware specifications for each Amazon EC2 instance type, see [Amazon EC2 Instance Types](https://aws.amazon.com/ec2/instance-types/).\n",
    "\n",
    "After you launch an instance, it looks like a traditional host, and you can interact with it as you would any computer. You have complete control of your instances; you can use sudo to run commands that require root privileges.\n",
    "\n",
    "Your AWS account has a limit on the number of instances that you can have running. For more information about this limit, and how to request an increase, see [How many instances can I run in Amazon EC2](https://aws.amazon.com/ec2/faqs/#How_many_instances_can_I_run_in_Amazon_EC2)\n",
    "in the Amazon EC2 General FAQ. \n",
    "\n",
    "[ec2.create_instances](https://boto3.amazonaws.com/v1/documentation/api/latest/reference/services/ec2.html#EC2.ServiceResource.create_instances) boto3 documentation\n"
   ]
  },
  {
   "cell_type": "code",
   "execution_count": null,
   "metadata": {},
   "outputs": [],
   "source": [
    "ec2_instance = ec2.create_instances(\n",
    "    ImageId=ami,\n",
    "    MinCount=1,\n",
    "    MaxCount=1,\n",
    "    InstanceType='m5.large', \n",
    "    Monitoring={'Enabled': True},\n",
    "    UserData=userdataencode,\n",
    "    NetworkInterfaces=[\n",
    "        {\n",
    "            'AssociatePublicIpAddress': True,\n",
    "            'DeviceIndex': 0,\n",
    "            'SubnetId': subnet_id,\n",
    "            'Groups' : [\n",
    "                sec_group_id,\n",
    "            ]\n",
    "        }\n",
    "    ],\n",
    "    TagSpecifications=[\n",
    "        {\n",
    "            'ResourceType':'instance',\n",
    "            'Tags': [\n",
    "                {\n",
    "                    'Key': 'Name',\n",
    "                    'Value': 'research-demo'\n",
    "                },\n",
    "            ]\n",
    "        },\n",
    "    ],\n",
    ")\n",
    "print(ec2_instance[0].state)"
   ]
  },
  {
   "cell_type": "markdown",
   "metadata": {},
   "source": [
    "## Validate web server\n",
    "\n",
    "Wait for the EC2 launch to complete. This may take a couple of minutes."
   ]
  },
  {
   "cell_type": "code",
   "execution_count": null,
   "metadata": {},
   "outputs": [],
   "source": [
    "ec2_instance[0].wait_until_running()\n",
    "\n",
    "ec2_instance[0].reload()\n",
    "print(\"Instance id: {0}\".format(ec2_instance[0].id))\n",
    "print(\"State: {0}\".format(ec2_instance[0].state['Name']))"
   ]
  },
  {
   "cell_type": "code",
   "execution_count": null,
   "metadata": {},
   "outputs": [],
   "source": [
    "print(\"EC2 Instance {0}: https://{1}.console.aws.amazon.com/ec2/v2/home?region={1}#Instances:sort=instanceId\".format(ec2_instance[0].id, region))\n",
    "print(\"Web App: http://{0}\".format(ec2_instance[0].public_dns_name))\n"
   ]
  },
  {
   "cell_type": "markdown",
   "metadata": {},
   "source": [
    "## Finished!!!!!!\n",
    "\n",
    "From the links above you can now click on the Web App link to launch a new tab in the browser to show the index.html page we uploaded from S3. After that, you can click the EC2 Instance link to look at your EC2 Instance. \n",
    "\n",
    "If you were to create this in a production environment you could leverage [CloudFormation](https://aws.amazon.com/cloudformation/) templates that will allow you to leverage YAML or JSON templates to launch the resources. If you would like to experiment more you can launch example [CloudFormation application templates](https://docs.aws.amazon.com/AWSCloudFormation/latest/UserGuide/deploying.applications.html) to see how you could build your [Infrastructure as Code](https://en.wikipedia.org/wiki/Infrastructure_as_code). "
   ]
  },
  {
   "cell_type": "markdown",
   "metadata": {},
   "source": [
    "## Clean Up\n",
    "\n",
    "In order to remove everything created in this workshop you can run the cells below and finally remove the VPC created for this workshop."
   ]
  },
  {
   "cell_type": "markdown",
   "metadata": {},
   "source": [
    "### Remove EC2 Instance"
   ]
  },
  {
   "cell_type": "code",
   "execution_count": null,
   "metadata": {},
   "outputs": [],
   "source": [
    "ec2_instance[0].terminate()\n",
    "ec2_instance[0].wait_until_terminated()\n",
    "ec2_instance[0].reload()\n",
    "print(\"Complete Instance Stopped\")"
   ]
  },
  {
   "cell_type": "markdown",
   "metadata": {},
   "source": [
    "### Remove Security Group"
   ]
  },
  {
   "cell_type": "code",
   "execution_count": null,
   "metadata": {},
   "outputs": [],
   "source": [
    "response = ec2_client.delete_security_group(GroupId=sec_group_id)"
   ]
  },
  {
   "cell_type": "markdown",
   "metadata": {},
   "source": [
    "### Remove Virtual Private Cloud"
   ]
  },
  {
   "cell_type": "code",
   "execution_count": null,
   "metadata": {},
   "outputs": [],
   "source": [
    "\"\"\"Cleanup VPC\"\"\"\n",
    "print('Removing VPC ({}) from AWS'.format(vpc_id))\n",
    "ec2 = boto3.resource('ec2')\n",
    "ec2_client = ec2.meta.client\n",
    "vpc = ec2.Vpc(vpc_id)\n",
    "\n",
    "# detach default dhcp_options if associated with the vpc\n",
    "dhcp_options_default = ec2.DhcpOptions('default')\n",
    "if dhcp_options_default:\n",
    "    dhcp_options_default.associate_with_vpc(\n",
    "        VpcId=vpc.id\n",
    "    )\n",
    "# detach and delete all gateways associated with the vpc\n",
    "for gw in vpc.internet_gateways.all():\n",
    "    vpc.detach_internet_gateway(InternetGatewayId=gw.id)\n",
    "    gw.delete()\n",
    "# delete all route table associations\n",
    "for rt in vpc.route_tables.all():\n",
    "    if not rt.associations:\n",
    "        rt.delete()\n",
    "    else:\n",
    "        for rta in rt.associations:\n",
    "            if not rta.main:\n",
    "                rta.delete()\n",
    "# delete any instances\n",
    "for subnet in vpc.subnets.all():\n",
    "    for instance in subnet.instances.all():\n",
    "        instance.terminate()\n",
    "# delete our endpoints\n",
    "for ep in ec2_client.describe_vpc_endpoints(\n",
    "        Filters=[{\n",
    "            'Name': 'vpc-id',\n",
    "            'Values': [vpc_id]\n",
    "        }])['VpcEndpoints']:\n",
    "    ec2_client.delete_vpc_endpoints(VpcEndpointIds=[ep['VpcEndpointId']])\n",
    "# delete our security groups\n",
    "for sg in vpc.security_groups.all():\n",
    "    if sg.group_name != 'default':\n",
    "        sg.delete()\n",
    "# delete any vpc peering connections\n",
    "for vpcpeer in ec2_client.describe_vpc_peering_connections(\n",
    "        Filters=[{\n",
    "            'Name': 'requester-vpc-info.vpc-id',\n",
    "            'Values': [vpc_id]\n",
    "        }])['VpcPeeringConnections']:\n",
    "    ec2.VpcPeeringConnection(vpcpeer['VpcPeeringConnectionId']).delete()\n",
    "# delete non-default network acls\n",
    "for netacl in vpc.network_acls.all():\n",
    "    if not netacl.is_default:\n",
    "        netacl.delete()\n",
    "# delete network interfaces\n",
    "for subnet in vpc.subnets.all():\n",
    "    for interface in subnet.network_interfaces.all():\n",
    "        interface.delete()\n",
    "    subnet.delete()\n",
    "# finally, delete the vpc\n",
    "ec2_client.delete_vpc(VpcId=vpc_id)\n",
    "print('VPC ({}) removed from AWS'.format(vpc_id))"
   ]
  },
  {
   "cell_type": "markdown",
   "metadata": {},
   "source": [
    "### Remove S3 Bucket"
   ]
  },
  {
   "cell_type": "code",
   "execution_count": null,
   "metadata": {},
   "outputs": [],
   "source": [
    "\"\"\"Remove all objects from S3 bucket and delete\"\"\"\n",
    "client = boto3.client('s3')\n",
    "\n",
    "response = client.list_objects_v2(\n",
    "    Bucket=bucket,\n",
    ")\n",
    "\n",
    "while response['KeyCount'] > 0:\n",
    "    print('Deleting %d objects from bucket %s' % (len(response['Contents']),bucket))\n",
    "    response = client.delete_objects(\n",
    "        Bucket=bucket,\n",
    "        Delete={\n",
    "            'Objects':[{'Key':obj['Key']} for obj in response['Contents']]\n",
    "        }\n",
    "    )\n",
    "    response = client.list_objects_v2(\n",
    "        Bucket=bucket,\n",
    "    )\n",
    "\n",
    "print('Now deleting bucket %s' % bucket)\n",
    "response = client.delete_bucket(\n",
    "    Bucket=bucket\n",
    ")"
   ]
  },
  {
   "cell_type": "code",
   "execution_count": null,
   "metadata": {},
   "outputs": [],
   "source": []
  }
 ],
 "metadata": {
  "kernelspec": {
   "display_name": "conda_python3",
   "language": "python",
   "name": "conda_python3"
  },
  "language_info": {
   "codemirror_mode": {
    "name": "ipython",
    "version": 3
   },
   "file_extension": ".py",
   "mimetype": "text/x-python",
   "name": "python",
   "nbconvert_exporter": "python",
   "pygments_lexer": "ipython3",
   "version": "3.6.10"
  }
 },
 "nbformat": 4,
 "nbformat_minor": 2
}
